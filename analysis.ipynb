{
 "cells": [
  {
   "cell_type": "markdown",
   "metadata": {},
   "source": [
    "# Derivatives Assignment"
   ]
  },
  {
   "cell_type": "markdown",
   "metadata": {},
   "source": [
    "## Read Data"
   ]
  },
  {
   "cell_type": "code",
   "execution_count": 9,
   "metadata": {},
   "outputs": [
    {
     "data": {
      "text/html": [
       "<div>\n",
       "<style scoped>\n",
       "    .dataframe tbody tr th:only-of-type {\n",
       "        vertical-align: middle;\n",
       "    }\n",
       "\n",
       "    .dataframe tbody tr th {\n",
       "        vertical-align: top;\n",
       "    }\n",
       "\n",
       "    .dataframe thead th {\n",
       "        text-align: right;\n",
       "    }\n",
       "</style>\n",
       "<table border=\"1\" class=\"dataframe\">\n",
       "  <thead>\n",
       "    <tr style=\"text-align: right;\">\n",
       "      <th></th>\n",
       "      <th>JMCO</th>\n",
       "      <th>BAUSM</th>\n",
       "      <th>CISK</th>\n",
       "      <th>JMVI</th>\n",
       "    </tr>\n",
       "  </thead>\n",
       "  <tbody>\n",
       "    <tr>\n",
       "      <th>2020-03-25</th>\n",
       "      <td>276.24</td>\n",
       "      <td>139.61</td>\n",
       "      <td>133.6187</td>\n",
       "      <td>160.83</td>\n",
       "    </tr>\n",
       "    <tr>\n",
       "      <th>2020-03-26</th>\n",
       "      <td>276.51</td>\n",
       "      <td>140.34</td>\n",
       "      <td>133.5489</td>\n",
       "      <td>161.44</td>\n",
       "    </tr>\n",
       "    <tr>\n",
       "      <th>2020-03-27</th>\n",
       "      <td>276.78</td>\n",
       "      <td>140.36</td>\n",
       "      <td>133.6695</td>\n",
       "      <td>160.39</td>\n",
       "    </tr>\n",
       "    <tr>\n",
       "      <th>2020-03-30</th>\n",
       "      <td>277.10</td>\n",
       "      <td>140.80</td>\n",
       "      <td>132.7614</td>\n",
       "      <td>163.36</td>\n",
       "    </tr>\n",
       "    <tr>\n",
       "      <th>2020-03-31</th>\n",
       "      <td>277.03</td>\n",
       "      <td>140.83</td>\n",
       "      <td>132.7550</td>\n",
       "      <td>164.46</td>\n",
       "    </tr>\n",
       "  </tbody>\n",
       "</table>\n",
       "</div>"
      ],
      "text/plain": [
       "              JMCO   BAUSM      CISK    JMVI\n",
       "2020-03-25  276.24  139.61  133.6187  160.83\n",
       "2020-03-26  276.51  140.34  133.5489  161.44\n",
       "2020-03-27  276.78  140.36  133.6695  160.39\n",
       "2020-03-30  277.10  140.80  132.7614  163.36\n",
       "2020-03-31  277.03  140.83  132.7550  164.46"
      ]
     },
     "execution_count": 9,
     "metadata": {},
     "output_type": "execute_result"
    }
   ],
   "source": [
    "import pandas as pd\n",
    "import numpy as np\n",
    "\n",
    "df = pd.read_json('data/portfolio_dailies.json')\n",
    "df.head()\n",
    "#Index is Date\n"
   ]
  },
  {
   "cell_type": "markdown",
   "metadata": {},
   "source": [
    "#### Find the following on the individuals stocks:\n",
    "#### Annual returns, volatility, upvol, down vol, sharpe, sortino, calmar, realized correlation matrix"
   ]
  },
  {
   "cell_type": "code",
   "execution_count": 10,
   "metadata": {},
   "outputs": [
    {
     "name": "stdout",
     "output_type": "stream",
     "text": [
      "Annual Returns:\n",
      "JMCO     0.062745\n",
      "BAUSM    0.037906\n",
      "CISK     0.073335\n",
      "JMVI     0.140500\n",
      "dtype: float64\n",
      "\n",
      "Volatility:\n",
      "JMCO     0.026561\n",
      "BAUSM    0.020511\n",
      "CISK     0.045748\n",
      "JMVI     0.070840\n",
      "dtype: float64\n",
      "\n",
      "Up Volatility:\n",
      "JMCO     0.017896\n",
      "BAUSM    0.014281\n",
      "CISK     0.040783\n",
      "JMVI     0.038194\n",
      "dtype: float64\n",
      "\n",
      "Down Volatility:\n",
      "JMCO     0.017338\n",
      "BAUSM    0.021245\n",
      "CISK     0.028427\n",
      "JMVI     0.096738\n",
      "dtype: float64\n",
      "\n",
      "Sharpe Ratio:\n",
      "JMCO     1.609293\n",
      "BAUSM    0.872975\n",
      "CISK     1.165842\n",
      "JMVI     1.701005\n",
      "dtype: float64\n",
      "\n",
      "Sortino Ratio:\n",
      "JMCO     3.618938\n",
      "BAUSM    1.784200\n",
      "CISK     2.579808\n",
      "JMVI     1.452372\n",
      "dtype: float64\n",
      "\n",
      "Calmar Ratio:\n",
      "JMCO     8.051013\n",
      "BAUSM    2.221313\n",
      "CISK     4.638904\n",
      "JMVI     1.833562\n",
      "dtype: float64\n",
      "\n",
      "Realized Correlation Matrix:\n",
      "           JMCO     BAUSM      CISK      JMVI\n",
      "JMCO   1.000000  0.021729 -0.023430  0.017106\n",
      "BAUSM  0.021729  1.000000 -0.160316  0.239222\n",
      "CISK  -0.023430 -0.160316  1.000000 -0.168380\n",
      "JMVI   0.017106  0.239222 -0.168380  1.000000\n"
     ]
    }
   ],
   "source": [
    "# Calculate daily returns\n",
    "returns = df.pct_change()\n",
    "\n",
    "# Calculate annual returns\n",
    "annual_returns = returns.mean() * 252\n",
    "\n",
    "# Calculate volatility\n",
    "volatility = returns.std() * np.sqrt(252)\n",
    "\n",
    "# Calculate up and down vol\n",
    "up_vol = returns[returns > 0].std() * np.sqrt(252)\n",
    "down_vol = returns[returns < 0].std() * np.sqrt(252)\n",
    "\n",
    "# Calculate Sharpe ratio\n",
    "risk_free_rate = 0.02  # Assuming a risk-free rate of 2%\n",
    "sharpe_ratio = (annual_returns - risk_free_rate) / volatility\n",
    "\n",
    "# Calculate Sortino ratio\n",
    "target_return = 0  # Assuming target return of 0\n",
    "sortino_ratio = (annual_returns - target_return) / down_vol\n",
    "\n",
    "# Calculate Calmar ratio\n",
    "max_drawdown = np.abs(returns.min())\n",
    "calmar_ratio = annual_returns / max_drawdown\n",
    "\n",
    "# Calculate realized correlation matrix\n",
    "correlation_matrix = returns.corr()\n",
    "\n",
    "# Display results\n",
    "print(\"Annual Returns:\")\n",
    "print(annual_returns)\n",
    "print(\"\\nVolatility:\")\n",
    "print(volatility)\n",
    "print(\"\\nUp Volatility:\")\n",
    "print(up_vol)\n",
    "print(\"\\nDown Volatility:\")\n",
    "print(down_vol)\n",
    "print(\"\\nSharpe Ratio:\")\n",
    "print(sharpe_ratio)\n",
    "print(\"\\nSortino Ratio:\")\n",
    "print(sortino_ratio)\n",
    "print(\"\\nCalmar Ratio:\")\n",
    "print(calmar_ratio)\n",
    "print(\"\\nRealized Correlation Matrix:\")\n",
    "print(correlation_matrix)"
   ]
  },
  {
   "cell_type": "markdown",
   "metadata": {},
   "source": [
    "#### Equally weighted basket metrics"
   ]
  },
  {
   "cell_type": "code",
   "execution_count": 11,
   "metadata": {},
   "outputs": [
    {
     "name": "stdout",
     "output_type": "stream",
     "text": [
      "\n",
      "Equally Weighted Portfolio Metrics:\n",
      "Portfolio Annual Return: 0.07862134688000716\n",
      "Portfolio Volatility: 7.7888894800455315\n",
      "Portfolio Sharpe Ratio: 0.007526277915509012\n",
      "Portfolio Sortino Ratio: 1.9205467702212533\n",
      "Portfolio Calmar Ratio: 1.0813487467096028\n"
     ]
    }
   ],
   "source": [
    "# Calculate equally weighted portfolio metrics\n",
    "weights = np.array([0.25, 0.25, 0.25, 0.25])  # Equal weights for each stock\n",
    "portfolio_returns = np.dot(annual_returns, weights)\n",
    "portfolio_volatility = np.sqrt(np.dot(weights.T, np.dot(correlation_matrix, weights))) * np.sqrt(252)\n",
    "portfolio_sharpe_ratio = (portfolio_returns - risk_free_rate) / portfolio_volatility\n",
    "portfolio_sortino_ratio = (portfolio_returns - target_return) / down_vol.mean()\n",
    "portfolio_max_drawdown = np.abs(returns.sum(axis=1).min())\n",
    "portfolio_calmar_ratio = portfolio_returns / portfolio_max_drawdown\n",
    "\n",
    "# Print the results\n",
    "print(\"\\nEqually Weighted Portfolio Metrics:\")\n",
    "print(\"Portfolio Annual Return:\", portfolio_returns)\n",
    "print(\"Portfolio Volatility:\", portfolio_volatility)\n",
    "print(\"Portfolio Sharpe Ratio:\", portfolio_sharpe_ratio)\n",
    "print(\"Portfolio Sortino Ratio:\", portfolio_sortino_ratio)\n",
    "print(\"Portfolio Calmar Ratio:\", portfolio_calmar_ratio)\n"
   ]
  },
  {
   "cell_type": "markdown",
   "metadata": {},
   "source": [
    "#### 25M Notional , 10% Return Volatility Calculations\n",
    "\n",
    "#### Mean-Variance Optimization "
   ]
  },
  {
   "cell_type": "code",
   "execution_count": 12,
   "metadata": {},
   "outputs": [
    {
     "name": "stdout",
     "output_type": "stream",
     "text": [
      "\n",
      "Mean-Variance Optimization (MVO) Weights (Notional):\n",
      "JMCO: 5812546.116382226\n",
      "BAUSM: 5610115.357692426\n",
      "CISK: 7848715.285026995\n",
      "JMVI: 5728623.240898351\n"
     ]
    }
   ],
   "source": [
    "from scipy.optimize import minimize\n",
    "\n",
    "# Function to minimize for MVO & target vol of 10%\n",
    "def objective(weights):\n",
    "    portfolio_volatility = np.sqrt(np.dot(weights.T, np.dot(correlation_matrix, weights))) * np.sqrt(252)\n",
    "    return (portfolio_volatility - 0.1) ** 2 \n",
    "\n",
    "# Constraints for weights summing to 1\n",
    "constraints = ({'type': 'eq', 'fun': lambda x: np.sum(x) - 1})\n",
    "\n",
    "# Initial guess for weights\n",
    "initial_guess = np.ones(len(weights)) / len(weights)\n",
    "\n",
    "# Perform optimization & convert weights to notional\n",
    "result = minimize(objective, initial_guess, constraints=constraints)\n",
    "optimized_weights_mvo = result.x * 25e6  \n",
    "\n",
    "print(\"\\nMean-Variance Optimization (MVO) Weights (Notional):\")\n",
    "print(\"JMCO:\", optimized_weights_mvo[0])\n",
    "print(\"BAUSM:\", optimized_weights_mvo[1])\n",
    "print(\"CISK:\", optimized_weights_mvo[2])\n",
    "print(\"JMVI:\", optimized_weights_mvo[3])\n"
   ]
  },
  {
   "cell_type": "markdown",
   "metadata": {},
   "source": [
    "#### Risk Parity & Minimum Variance Optimization"
   ]
  },
  {
   "cell_type": "code",
   "execution_count": 13,
   "metadata": {},
   "outputs": [
    {
     "name": "stdout",
     "output_type": "stream",
     "text": [
      "\n",
      "Risk Parity Weights (Notional):\n",
      "JMCO: 12794741.689064609\n",
      "BAUSM: 11041852.422683656\n",
      "CISK: -9861998.647121316\n",
      "JMVI: 11025404.53537305\n",
      "\n",
      "Minimum Variance Portfolio Weights (Notional):\n",
      "JMCO: 5812544.04422289\n",
      "BAUSM: 5610115.6764426\n",
      "CISK: 7848715.222873613\n",
      "JMVI: 5728625.056460895\n"
     ]
    }
   ],
   "source": [
    "# Risk Parity\n",
    "def risk_parity(weights):\n",
    "    portfolio_volatility = np.sqrt(np.dot(weights.T, np.dot(correlation_matrix, weights))) * np.sqrt(252)\n",
    "    risk_contributions = np.dot(correlation_matrix, weights) * weights\n",
    "    risk_budget = 1 / len(weights)\n",
    "    return np.sum((risk_contributions - risk_budget) ** 2)  # Minimize deviation from risk budget\n",
    "\n",
    "result_rp = minimize(risk_parity, initial_guess, constraints=constraints)\n",
    "optimized_weights_rp = result_rp.x * 25e6  # Convert weights to notional\n",
    "\n",
    "print(\"\\nRisk Parity Weights (Notional):\")\n",
    "print(\"JMCO:\", optimized_weights_rp[0])\n",
    "print(\"BAUSM:\", optimized_weights_rp[1])\n",
    "print(\"CISK:\", optimized_weights_rp[2])\n",
    "print(\"JMVI:\", optimized_weights_rp[3])\n",
    "\n",
    "# Minimum Variance Portfolio\n",
    "def min_variance(weights):\n",
    "    portfolio_volatility = np.sqrt(np.dot(weights.T, np.dot(correlation_matrix, weights))) * np.sqrt(252)\n",
    "    return portfolio_volatility\n",
    "\n",
    "result_mv = minimize(min_variance, initial_guess, constraints=constraints)\n",
    "optimized_weights_mv = result_mv.x * 25e6  # Convert weights to notional\n",
    "\n",
    "print(\"\\nMinimum Variance Portfolio Weights (Notional):\")\n",
    "print(\"JMCO:\", optimized_weights_mv[0])\n",
    "print(\"BAUSM:\", optimized_weights_mv[1])\n",
    "print(\"CISK:\", optimized_weights_mv[2])\n",
    "print(\"JMVI:\", optimized_weights_mv[3])\n"
   ]
  },
  {
   "cell_type": "markdown",
   "metadata": {},
   "source": [
    "#### Black Scholes Option Pricer"
   ]
  },
  {
   "cell_type": "code",
   "execution_count": 14,
   "metadata": {},
   "outputs": [
    {
     "name": "stdout",
     "output_type": "stream",
     "text": [
      "Black-Scholes Call Option Price: 10.450583572185565\n",
      "Black-Scholes Put Option Price: 5.573526022256971\n"
     ]
    }
   ],
   "source": [
    "import math\n",
    "from scipy.stats import norm\n",
    "\n",
    "def black_scholes_call(S, K, T, r, sigma):\n",
    "    d1 = (math.log(S / K) + (r + 0.5 * sigma ** 2) * T) / (sigma * math.sqrt(T))\n",
    "    d2 = d1 - sigma * math.sqrt(T)\n",
    "    call_price = S * norm.cdf(d1) - K * math.exp(-r * T) * norm.cdf(d2)\n",
    "    return call_price\n",
    "\n",
    "def black_scholes_put(S, K, T, r, sigma):\n",
    "    d1 = (math.log(S / K) + (r + 0.5 * sigma ** 2) * T) / (sigma * math.sqrt(T))\n",
    "    d2 = d1 - sigma * math.sqrt(T)\n",
    "    put_price = K * math.exp(-r * T) * norm.cdf(-d2) - S * norm.cdf(-d1)\n",
    "    return put_price\n",
    "\n",
    "# Example usage\n",
    "S = 100  # Current stock price\n",
    "K = 100  # Strike price\n",
    "T = 1    # Time to expiration (in years)\n",
    "r = 0.05  # Risk-free rate\n",
    "sigma = 0.2  # Volatility\n",
    "\n",
    "call_price = black_scholes_call(S, K, T, r, sigma)\n",
    "put_price = black_scholes_put(S, K, T, r, sigma)\n",
    "\n",
    "print(\"Black-Scholes Call Option Price:\", call_price)\n",
    "print(\"Black-Scholes Put Option Price:\", put_price)\n"
   ]
  },
  {
   "cell_type": "markdown",
   "metadata": {},
   "source": [
    "#### Black Scholes - Monte Carlo Model"
   ]
  },
  {
   "cell_type": "code",
   "execution_count": 15,
   "metadata": {},
   "outputs": [
    {
     "name": "stdout",
     "output_type": "stream",
     "text": [
      "Monte Carlo Call Option Price: 10.450169921134655\n",
      "Monte Carlo Put Option Price: 5.601717175958082\n"
     ]
    }
   ],
   "source": [
    "# BSM Monte-Carlo\n",
    "import scipy.stats as stats\n",
    "\n",
    "def black_scholes_mc(S, K, T, r, sigma, num_simulations=10000):\n",
    "    np.random.seed(42)\n",
    "    z = np.random.normal(0, 1, num_simulations)\n",
    "    ST = S * np.exp((r - 0.5 * sigma**2) * T + sigma * np.sqrt(T) * z)\n",
    "    \n",
    "    call_payoffs = np.maximum(ST - K, 0)\n",
    "    put_payoffs = np.maximum(K - ST, 0)\n",
    "    \n",
    "    call_price = np.exp(-r * T) * np.mean(call_payoffs)\n",
    "    put_price = np.exp(-r * T) * np.mean(put_payoffs)\n",
    "    \n",
    "    return call_price, put_price\n",
    "\n",
    "S = 100  # Current stock price\n",
    "K = 100  # Strike price\n",
    "T = 1    # Time to expiration (in years)\n",
    "r = 0.05  # Risk-free rate\n",
    "sigma = 0.2  # Volatility\n",
    "\n",
    "call_price_mc, put_price_mc = black_scholes_mc(S, K, T, r, sigma)\n",
    "\n",
    "print(\"Monte Carlo Call Option Price:\", call_price_mc)\n",
    "print(\"Monte Carlo Put Option Price:\", put_price_mc)\n"
   ]
  },
  {
   "cell_type": "markdown",
   "metadata": {},
   "source": [
    "#### European Digital Options Pricer"
   ]
  },
  {
   "cell_type": "code",
   "execution_count": 16,
   "metadata": {},
   "outputs": [
    {
     "name": "stdout",
     "output_type": "stream",
     "text": [
      "European Digital Call Option Price: 53.23248154537634\n",
      "European Digital Put Option Price: 41.89046090469506\n"
     ]
    }
   ],
   "source": [
    "def norm_cdf(x):\n",
    "    return (1 + math.erf(x / math.sqrt(2))) / 2\n",
    "\n",
    "def european_digital_call(S, K, T, r, sigma, payout):\n",
    "    d2 = (math.log(S / K) + (r - 0.5 * sigma ** 2) * T) / (sigma * math.sqrt(T))\n",
    "    digital_price = payout * norm_cdf(d2)\n",
    "    return digital_price * math.exp(-r * T)\n",
    "\n",
    "def european_digital_put(S, K, T, r, sigma, payout):\n",
    "    d2 = (math.log(S / K) + (r - 0.5 * sigma ** 2) * T) / (sigma * math.sqrt(T))\n",
    "    digital_price = payout * norm_cdf(-d2)\n",
    "    return digital_price * math.exp(-r * T)\n",
    "\n",
    "S = 100  # Current stock price\n",
    "K = 100  # Strike price\n",
    "T = 1    # Time to expiration (in years)\n",
    "r = 0.05  # Risk-free rate\n",
    "sigma = 0.2  # Volatility\n",
    "payout = 100  # Payout amount if option expires in-the-money\n",
    "\n",
    "digital_call_price = european_digital_call(S, K, T, r, sigma, payout)\n",
    "digital_put_price = european_digital_put(S, K, T, r, sigma, payout)\n",
    "\n",
    "print(\"European Digital Call Option Price:\", digital_call_price)\n",
    "print(\"European Digital Put Option Price:\", digital_put_price)\n"
   ]
  }
 ],
 "metadata": {
  "kernelspec": {
   "display_name": "keal",
   "language": "python",
   "name": "python3"
  },
  "language_info": {
   "codemirror_mode": {
    "name": "ipython",
    "version": 3
   },
   "file_extension": ".py",
   "mimetype": "text/x-python",
   "name": "python",
   "nbconvert_exporter": "python",
   "pygments_lexer": "ipython3",
   "version": "3.12.0"
  }
 },
 "nbformat": 4,
 "nbformat_minor": 2
}
